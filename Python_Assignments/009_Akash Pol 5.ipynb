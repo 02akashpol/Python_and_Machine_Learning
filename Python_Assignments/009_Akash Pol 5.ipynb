{
 "cells": [
  {
   "cell_type": "code",
   "execution_count": null,
   "metadata": {},
   "outputs": [],
   "source": [
    "#Write a NumPy program to test whether none of the elements of a given array is zero.\n",
    "import numpy as np\n",
    "arr = np.array([1,2,3,4])\n",
    "print(\"Printing all ele from array : \")\n",
    "print(arr)\n",
    "print(np.all(arr))\n"
   ]
  },
  {
   "cell_type": "code",
   "execution_count": null,
   "metadata": {},
   "outputs": [],
   "source": [
    "#Write a NumPy program to test whether none of the elements of a given array is zero.\n",
    "import array \n",
    "arr = array.array('i',[1,2,3,4])\n",
    "print(\"Printing all ele from array : \")\n",
    "print(arr)\n",
    "print(all(arr))\n",
    "arr.append(0)\n",
    "print(arr)\n",
    "print(all(arr))"
   ]
  },
  {
   "cell_type": "code",
   "execution_count": null,
   "metadata": {},
   "outputs": [],
   "source": [
    "#Write a NumPy program to create an array with the values 1, 7, 13, 105 and determine\n",
    "#the size of the memory occupied by the array\n",
    "import numpy as np\n",
    "arr = np.array([1,7,13,105])\n",
    "print(arr)\n",
    "print(\"%d bytes\" %(arr.size * arr.itemsize))"
   ]
  },
  {
   "cell_type": "code",
   "execution_count": null,
   "metadata": {},
   "outputs": [],
   "source": [
    "#Write a NumPy program to create an array of all the even integers from 30 to 70.\n",
    "import numpy as np \n",
    "arr = np.arange(30,71,2)\n",
    "print(\"All even numbers from array : \")\n",
    "print(arr)"
   ]
  },
  {
   "cell_type": "code",
   "execution_count": null,
   "metadata": {},
   "outputs": [],
   "source": [
    "#Write a NumPy program to create a 3x3 identity matrix.\n",
    "import numpy as np\n",
    "arr = np.eye(3)\n",
    "print(arr)"
   ]
  },
  {
   "cell_type": "code",
   "execution_count": null,
   "metadata": {},
   "outputs": [],
   "source": [
    "#Write a NumPy program to create a 3X4 array using and iterate over it.\n",
    "import numpy as np \n",
    "arr = np.arange(0,12).reshape((3,4))\n",
    "print(\"Printing the all ele : \")\n",
    "print(arr)\n",
    "for arr in np.nditer(arr) :\n",
    "    print(arr, end=\" \")"
   ]
  },
  {
   "cell_type": "code",
   "execution_count": null,
   "metadata": {},
   "outputs": [],
   "source": [
    "#Write a NumPy program to find the number of rows and columns of a given matrix.\n",
    "import numpy as np\n",
    "arr = np.arange(20,32).reshape((3,4))\n",
    "print(arr)\n",
    "print(arr.shape)"
   ]
  },
  {
   "cell_type": "code",
   "execution_count": null,
   "metadata": {},
   "outputs": [],
   "source": [
    "#Write a NumPy program to create a 10x10 matrix, in which the elements on the borders\n",
    "#will be equal to 1, and inside 0.\n",
    "import numpy as np\n",
    "arr = np.ones((10,10))\n",
    "arr[1:-1, 1:-1] = 0\n",
    "print(arr)"
   ]
  },
  {
   "cell_type": "code",
   "execution_count": 1,
   "metadata": {},
   "outputs": [
    {
     "name": "stdout",
     "output_type": "stream",
     "text": [
      "[[1 2]\n",
      " [2 3]]\n",
      "Sum of all ele : \n",
      "8\n",
      "Sum of cols : \n",
      "[3 5]\n",
      "Sum of rows : \n",
      "[3 5]\n"
     ]
    }
   ],
   "source": [
    "##Write a NumPy program to compute sum of all elements, sum of each column\n",
    "#and sum of each row of a given array.\n",
    "import numpy as np\n",
    "arr = np.array([[1,2],[2,3]])\n",
    "print(arr)\n",
    "print(\"Sum of all ele : \")\n",
    "print(np.sum(arr))\n",
    "print(\"Sum of cols : \")\n",
    "print(np.sum(arr, axis = 0))\n",
    "print(\"Sum of rows : \")\n",
    "print(np.sum(arr, axis = 1))\n"
   ]
  },
  {
   "cell_type": "code",
   "execution_count": 4,
   "metadata": {},
   "outputs": [
    {
     "name": "stdout",
     "output_type": "stream",
     "text": [
      "All numbers below 100.\n",
      "[ 0  3  5  6  9 10 12 15 18 20 21 24 25 27 30 33 35 36 39 40 42 45 48 50\n",
      " 51 54 55 57 60 63 65 66 69 70 72 75 78 80 81 84 85 87 90 93 95 96 99]\n",
      "Sum of all nums :  2318\n"
     ]
    }
   ],
   "source": [
    "#Write a NumPy program (using NumPy) to sum of all the multiples of 3 or 5 below 100.\n",
    "import numpy as np\n",
    "num = np.arange(0,100)\n",
    "n = num[(num % 3 == 0) | (num % 5 == 0)]\n",
    "print(\"All numbers below 100.\")\n",
    "print(n[:100])\n",
    "print(\"Sum of all nums : \", n.sum())\n"
   ]
  },
  {
   "cell_type": "code",
   "execution_count": 5,
   "metadata": {},
   "outputs": [
    {
     "name": "stdout",
     "output_type": "stream",
     "text": [
      "Without sorted : \n",
      "[(b'Akash', 10, 5.2) (b'Prakash', 12, 4.5) (b'Yash', 11, 5. )]\n",
      "After sorting by height : \n",
      "[(b'Prakash', 12, 4.5) (b'Yash', 11, 5. ) (b'Akash', 10, 5.2)]\n"
     ]
    }
   ],
   "source": [
    "#Write a NumPy program to create a structured array from given student name,\n",
    "#height, class and their data types. Now sort the array on height.\n",
    "import numpy as np\n",
    "data_types = [('name','S20'),('class',int),('height',float)]\n",
    "students_details = [('Akash',10,5.2),('Prakash',12,4.5),('Yash',11,5)]\n",
    "students = np.array(students_details, dtype = data_types)\n",
    "print(\"Without sorted : \")\n",
    "print(students)\n",
    "print(\"After sorting by height : \")\n",
    "print(np.sort(students, order = 'height'))\n"
   ]
  },
  {
   "cell_type": "code",
   "execution_count": 8,
   "metadata": {},
   "outputs": [
    {
     "name": "stdout",
     "output_type": "stream",
     "text": [
      "['Pyhton' 'Programming' 'PHP' 'Java' 'CPP']\n",
      "count of 'P' in array : \n",
      "[1 1 2 0 2]\n"
     ]
    }
   ],
   "source": [
    "#11.Write a NumPy program to count the number of \"P\" in a given array, element-wise.\n",
    "import numpy as np\n",
    "arr = np.array(['Pyhton', 'Programming', 'PHP', 'Java', 'CPP'], dtype = np.str)\n",
    "print(arr)\n",
    "print(\"count of 'P' in array : \")\n",
    "count = np.char.count(arr, \"P\")\n",
    "print(count)"
   ]
  },
  {
   "cell_type": "code",
   "execution_count": 9,
   "metadata": {},
   "outputs": [
    {
     "name": "stdout",
     "output_type": "stream",
     "text": [
      "['Pyhton' 'Programming' 'PHP' 'Java' 'CPP']\n",
      "count of 'P' in array : \n",
      "['Pyhton' 'Programming' 'Python' 'Java' 'CPP']\n"
     ]
    }
   ],
   "source": [
    "#12.Write a NumPy program to replace \"PHP\" with \"Python\" in the element of a given array.\n",
    "import numpy as np\n",
    "arr = np.array(['Pyhton', 'Programming', 'PHP', 'Java', 'CPP'], dtype = np.str)\n",
    "print(arr)\n",
    "print(\"Replace 'PHP' by 'Python' in array : \")\n",
    "repl = np.char.replace(arr, \"PHP\", \"Python\")\n",
    "print(repl)"
   ]
  },
  {
   "cell_type": "code",
   "execution_count": 10,
   "metadata": {},
   "outputs": [
    {
     "name": "stdout",
     "output_type": "stream",
     "text": [
      "['Pyhton' 'Programming' 'PHP' 'Java' 'CPP']\n",
      "Giving spaces betn each char in array : \n",
      "['P y h t o n' 'P r o g r a m m i n g' 'P H P' 'J a v a' 'C P P']\n"
     ]
    }
   ],
   "source": [
    "#13.Write a NumPy program to insert a space between characters of all the elements of a given array.\n",
    "import numpy as np\n",
    "arr = np.array(['Pyhton', 'Programming', 'PHP', 'Java', 'CPP'], dtype = np.str)\n",
    "print(arr)\n",
    "print(\"Giving spaces betn each char in array : \")\n",
    "spaces = np.char.join(\" \", arr)\n",
    "print(spaces)"
   ]
  },
  {
   "cell_type": "code",
   "execution_count": 17,
   "metadata": {},
   "outputs": [
    {
     "name": "stdout",
     "output_type": "stream",
     "text": [
      "['Pyhton' 'Programming' 'PHP' 'Java' 'CPP']\n",
      "\n",
      "\n",
      "capitalized_case :  ['Pyhton' 'Programming' 'Php' 'Java' 'Cpp']\n",
      "lowered_case :  ['pyhton' 'programming' 'php' 'java' 'cpp']\n",
      "uppered_case :  ['PYHTON' 'PROGRAMMING' 'PHP' 'JAVA' 'CPP']\n",
      "swapcased_case :  ['pYHTON' 'pROGRAMMING' 'php' 'jAVA' 'cpp']\n",
      "titlecased_case :  ['Pyhton' 'Programming' 'Php' 'Java' 'Cpp']\n"
     ]
    }
   ],
   "source": [
    "#14.Write a NumPy program to capitalize the first letter, lowercase, uppercase,\n",
    "#swapcase, title-case of all the elements of a given array.\n",
    "import numpy as np\n",
    "arr = np.array(['Pyhton', 'Programming', 'PHP', 'Java', 'CPP'], dtype = np.str)\n",
    "print(arr)\n",
    "print(\"\\n\")\n",
    "capitalized_case = np.char.capitalize(arr)\n",
    "lowered_case = np.char.lower(arr)\n",
    "uppered_case = np.char.upper(arr)\n",
    "swapcased_case = np.char.swapcase(arr)\n",
    "titlecased_case = np.char.title(arr)\n",
    "print(\"capitalized_case : \", capitalized_case)\n",
    "print(\"lowered_case : \", lowered_case)\n",
    "print(\"uppered_case : \", uppered_case)\n",
    "print(\"swapcased_case : \", swapcased_case)\n",
    "print(\"titlecased_case : \", titlecased_case)"
   ]
  },
  {
   "cell_type": "code",
   "execution_count": 15,
   "metadata": {},
   "outputs": [
    {
     "name": "stdout",
     "output_type": "stream",
     "text": [
      "['Pyhton' 'Programming' 'PHP' 'Java' 'CPP']\n",
      "['PyhtonPyhtonPyhton' 'ProgrammingProgrammingProgramming' 'PHPPHPPHP'\n",
      " 'JavaJavaJava' 'CPPCPPCPP']\n"
     ]
    }
   ],
   "source": [
    "#Write a NumPy program to repeat all the elements three times of a given array of string\n",
    "import numpy as np\n",
    "arr = np.array(['Pyhton', 'Programming', 'PHP', 'Java', 'CPP'], dtype = np.str)\n",
    "print(arr)\n",
    "repeat = np.char.multiply(arr, 3)\n",
    "print(repeat)"
   ]
  },
  {
   "cell_type": "code",
   "execution_count": null,
   "metadata": {},
   "outputs": [],
   "source": []
  }
 ],
 "metadata": {
  "kernelspec": {
   "display_name": "Python 3",
   "language": "python",
   "name": "python3"
  },
  "language_info": {
   "codemirror_mode": {
    "name": "ipython",
    "version": 3
   },
   "file_extension": ".py",
   "mimetype": "text/x-python",
   "name": "python",
   "nbconvert_exporter": "python",
   "pygments_lexer": "ipython3",
   "version": "3.7.6"
  }
 },
 "nbformat": 4,
 "nbformat_minor": 4
}
