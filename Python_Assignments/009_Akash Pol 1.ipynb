{
 "cells": [
  {
   "cell_type": "code",
   "execution_count": null,
   "metadata": {},
   "outputs": [],
   "source": [
    "#Python program to add two numbers\n",
    "a = 10 \n",
    "b = 20 \n",
    "sum = a + b\n",
    "print(\"sum\", sum)"
   ]
  },
  {
   "cell_type": "code",
   "execution_count": null,
   "metadata": {},
   "outputs": [],
   "source": [
    "num = int(input(\"Enter the number : \"))\n",
    "factorial = 1\n",
    "if num < 0:\n",
    "    print(\"sorry, factorial does not exist for negative numbers.\")\n",
    "elif num == 0:\n",
    "    print(\"factorial of\",num,\"is\",factorial)\n",
    "else:\n",
    "    for i in range(1,num + 1):\n",
    "        factorial = factorial * i\n",
    "    print(\"factorial of\",num,\"is\",factorial)"
   ]
  },
  {
   "cell_type": "code",
   "execution_count": null,
   "metadata": {},
   "outputs": [],
   "source": [
    "#Python Program to Check if a Number is Odd or Even\n",
    "num = int(input(\"Enter the number : \"))\n",
    "if num %2 == 0:\n",
    "    print(\"The given number\",num,\"is even.\")\n",
    "else:\n",
    "    print(\"The given number\",num,\"is odd.\")"
   ]
  },
  {
   "cell_type": "code",
   "execution_count": null,
   "metadata": {},
   "outputs": [],
   "source": [
    "#Python Program for Sum of squares of first n natural numbers\n",
    "def squaresum(num):\n",
    "    sum = 0\n",
    "    for i in range(1, num + 1):\n",
    "        sum = sum + (i * i)\n",
    "        \n",
    "    return sum \n",
    "num = int(input(\"Enter the number : \"))   \n",
    "print(\"The sum of square\", num, \"is\", squaresum(num))"
   ]
  },
  {
   "cell_type": "code",
   "execution_count": null,
   "metadata": {},
   "outputs": [],
   "source": [
    "#Python Program to Check Leap Year\n",
    "num = int(input(\"Enter the year : \"))\n",
    "\n",
    "if num % 4 == 0 :\n",
    "    if num % 100 == 0 :\n",
    "        if num % 400 == 0:\n",
    "            print(\"The given year is a leap year.\")\n",
    "        else :\n",
    "            print(\"The given year is not leap year.\")\n",
    "            \n",
    "else :\n",
    "    print(\"The given year is not leap year.\")\n",
    "        "
   ]
  },
  {
   "cell_type": "code",
   "execution_count": null,
   "metadata": {},
   "outputs": [],
   "source": [
    "#Python Program for simple interest\n",
    "P = int(input(\"Enter the amount for SI : \"))\n",
    "num = int(input(\"Enter the number of years for SI : \"))\n",
    "R = 10\n",
    "SI = ( P * num * R ) / 100\n",
    "print(\"SI : \", SI)"
   ]
  },
  {
   "cell_type": "code",
   "execution_count": 4,
   "metadata": {},
   "outputs": [
    {
     "ename": "NameError",
     "evalue": "name 'CI' is not defined",
     "output_type": "error",
     "traceback": [
      "\u001b[1;31m---------------------------------------------------------------------------\u001b[0m",
      "\u001b[1;31mNameError\u001b[0m                                 Traceback (most recent call last)",
      "\u001b[1;32m<ipython-input-4-6af16c5bf343>\u001b[0m in \u001b[0;36m<module>\u001b[1;34m\u001b[0m\n\u001b[0;32m      3\u001b[0m     \u001b[0mCI\u001b[0m \u001b[1;33m=\u001b[0m \u001b[0mP\u001b[0m \u001b[1;33m*\u001b[0m \u001b[1;33m(\u001b[0m\u001b[0mpow\u001b[0m\u001b[1;33m(\u001b[0m\u001b[1;33m(\u001b[0m\u001b[1;36m1\u001b[0m \u001b[1;33m+\u001b[0m \u001b[0mrate\u001b[0m  \u001b[1;33m/\u001b[0m \u001b[1;36m100\u001b[0m\u001b[1;33m)\u001b[0m\u001b[1;33m,\u001b[0m \u001b[0mnum\u001b[0m\u001b[1;33m)\u001b[0m\u001b[1;33m)\u001b[0m\u001b[1;33m\u001b[0m\u001b[1;33m\u001b[0m\u001b[0m\n\u001b[0;32m      4\u001b[0m \u001b[1;33m\u001b[0m\u001b[0m\n\u001b[1;32m----> 5\u001b[1;33m \u001b[0mprint\u001b[0m\u001b[1;33m(\u001b[0m\u001b[1;34m\"CI : \"\u001b[0m\u001b[1;33m,\u001b[0m \u001b[0mCI\u001b[0m\u001b[1;33m)\u001b[0m\u001b[1;33m\u001b[0m\u001b[1;33m\u001b[0m\u001b[0m\n\u001b[0m\u001b[0;32m      6\u001b[0m \u001b[0mcompound_interest\u001b[0m\u001b[1;33m(\u001b[0m\u001b[0mP\u001b[0m\u001b[1;33m,\u001b[0m \u001b[0mnum\u001b[0m\u001b[1;33m,\u001b[0m \u001b[0mR\u001b[0m\u001b[1;33m)\u001b[0m\u001b[1;33m\u001b[0m\u001b[1;33m\u001b[0m\u001b[0m\n\u001b[0;32m      7\u001b[0m \u001b[0mP\u001b[0m \u001b[1;33m=\u001b[0m \u001b[0mint\u001b[0m\u001b[1;33m(\u001b[0m\u001b[0minput\u001b[0m\u001b[1;33m(\u001b[0m\u001b[1;34m\"Enter the amount for CI : \"\u001b[0m\u001b[1;33m)\u001b[0m\u001b[1;33m)\u001b[0m\u001b[1;33m\u001b[0m\u001b[1;33m\u001b[0m\u001b[0m\n",
      "\u001b[1;31mNameError\u001b[0m: name 'CI' is not defined"
     ]
    }
   ],
   "source": [
    "#Python Program for compound interest\n",
    "def compound_interest(P, num, R) :\n",
    "    CI = P * (pow((1 + rate  / 100), num))\n",
    "   \n",
    "print(\"CI : \", CI)    \n",
    "compound_interest(P, num, R)\n",
    "P = int(input(\"Enter the amount for CI : \"))\n",
    "num = int(input(\"Enter the number of years for CI : \"))\n",
    "R = 10"
   ]
  },
  {
   "cell_type": "code",
   "execution_count": 5,
   "metadata": {},
   "outputs": [
    {
     "name": "stdin",
     "output_type": "stream",
     "text": [
      "Enter the value of radius :  20\n"
     ]
    },
    {
     "name": "stdout",
     "output_type": "stream",
     "text": [
      "The area of circle :  400\n"
     ]
    }
   ],
   "source": [
    "#Python Program for Program to find area of a circle\n",
    "rad = int(input(\"Enter the value of radius : \"))\n",
    "area = rad * rad\n",
    "print(\"The area of circle : \",area)"
   ]
  },
  {
   "cell_type": "code",
   "execution_count": 7,
   "metadata": {},
   "outputs": [
    {
     "name": "stdin",
     "output_type": "stream",
     "text": [
      "Enter the lower value of the range :  10\n",
      "Enter the upper value of the range :  50\n"
     ]
    }
   ],
   "source": [
    "#Python program to print all Prime numbers in an Interval\n",
    "start = int(input(\"Enter the lower value of the range : \"))\n",
    "end = int(input(\"Enter the upper value of the range : \"))\n",
    "for num in range(start, end + 1) :\n",
    "    if num > 1 :\n",
    "        for i in range(2, num) :\n",
    "             if num % i == 0 :\n",
    "                    break\n",
    "    else :\n",
    "        print(num)\n",
    "            \n",
    "    "
   ]
  },
  {
   "cell_type": "code",
   "execution_count": null,
   "metadata": {},
   "outputs": [],
   "source": []
  }
 ],
 "metadata": {
  "kernelspec": {
   "display_name": "Python 3",
   "language": "python",
   "name": "python3"
  },
  "language_info": {
   "codemirror_mode": {
    "name": "ipython",
    "version": 3
   },
   "file_extension": ".py",
   "mimetype": "text/x-python",
   "name": "python",
   "nbconvert_exporter": "python",
   "pygments_lexer": "ipython3",
   "version": "3.7.6"
  }
 },
 "nbformat": 4,
 "nbformat_minor": 4
}
