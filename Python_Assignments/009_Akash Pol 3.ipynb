{
 "cells": [
  {
   "cell_type": "code",
   "execution_count": null,
   "metadata": {},
   "outputs": [],
   "source": [
    "#Python Program to Calculate the Average of Numbers in a Given List\n",
    "n = int(input(\"Enter the number of elements to insert : \"))\n",
    "list = []\n",
    "for i in range(0,n) :\n",
    "    ele = int(input(\"Enter the ele : \"))\n",
    "    list.append(ele)\n",
    "    \n",
    "avg = sum(list) / n\n",
    "print(\"Avg of ele from list is : \",avg)"
   ]
  },
  {
   "cell_type": "code",
   "execution_count": null,
   "metadata": {},
   "outputs": [],
   "source": [
    "#Python Program to Read Two Numbers and Print Their Quotient and Remainder\n",
    "num1 = int(input(\"Enter the first num : \"))\n",
    "num2 = int(input(\"Enter the second num : \"))\n",
    "\n",
    "quo = num1 // num2\n",
    "rem = num1 % num2\n",
    "\n",
    "print(\"Quotient is : \", quo)\n",
    "print(\"Remainder is : \", rem)"
   ]
  },
  {
   "cell_type": "code",
   "execution_count": null,
   "metadata": {},
   "outputs": [],
   "source": [
    "#Python Program to Check if a Number is a Palindrome\n",
    "num = int(input(\"Enter the number for palindrome : \"))\n",
    "temp = num\n",
    "\n",
    "rev = 0 \n",
    "while(num > 0) :\n",
    "    rem = num % 10\n",
    "    rev = (rev * 10) + rem\n",
    "    num = num // 10\n",
    "    \n",
    "if (rev == temp) :\n",
    "    print(\"The given num is palindrome.\")\n",
    "else :\n",
    "    print(\"The given num is not palindrome.\")"
   ]
  },
  {
   "cell_type": "code",
   "execution_count": null,
   "metadata": {},
   "outputs": [],
   "source": [
    "#Python Program to Print an Inverted Star Pattern\n",
    "num = int(input(\"Enter the value of n for pattern : \"))\n",
    "\n",
    "for i in range(num, 0, -1) :\n",
    "    print((num - 1) * ' ' + i * '*')"
   ]
  },
  {
   "cell_type": "code",
   "execution_count": 11,
   "metadata": {},
   "outputs": [
    {
     "name": "stdin",
     "output_type": "stream",
     "text": [
      "Enter marks of the first subject:  25\n",
      "Enter marks of the second subject:  85\n",
      "Enter marks of the third subject:  95\n",
      "Enter marks of the fourth subject:  64\n",
      "Enter marks of the fifth subject:  74\n"
     ]
    },
    {
     "name": "stdout",
     "output_type": "stream",
     "text": [
      "Grade: D\n"
     ]
    }
   ],
   "source": [
    "#Python Program to Take in the Marks of 5 Subjects and Display the Grade\n",
    "\n",
    "sub1=int(input(\"Enter marks of the first subject: \"))\n",
    "sub2=int(input(\"Enter marks of the second subject: \"))\n",
    "sub3=int(input(\"Enter marks of the third subject: \"))\n",
    "sub4=int(input(\"Enter marks of the fourth subject: \"))\n",
    "sub5=int(input(\"Enter marks of the fifth subject: \"))\n",
    "avg=(sub1+sub2+sub3+sub4+sub5)/5\n",
    "if(avg >= 90):\n",
    "    print(\"Grade: A\")\n",
    "elif(avg>=80 and avg<90):\n",
    "    print(\"Grade: B\")\n",
    "elif(avg>=70 and avg<80):\n",
    "    print(\"Grade: C\")\n",
    "elif(avg>=60 and avg<70):\n",
    "    print(\"Grade: D\")\n",
    "else:\n",
    "    print(\"Grade: F\")\n"
   ]
  },
  {
   "cell_type": "code",
   "execution_count": null,
   "metadata": {},
   "outputs": [
    {
     "name": "stdin",
     "output_type": "stream",
     "text": [
      "Enter the number of ele to insert :  5\n"
     ]
    }
   ],
   "source": [
    "#Python Program to Put Even and Odd elements in a List into Two Different Lists\n",
    "list = []\n",
    "num = int(input(\"Enter the number of ele to insert : \"))\n",
    "for i in range(0,num) :\n",
    "    ele = int(input(\"Enter the ele : \"))\n",
    "    list.append(ele)\n",
    "    \n",
    "even = []\n",
    "odd = []\n",
    "\n",
    "for j in list :\n",
    "    if (j % 2 == 0) :\n",
    "        even.append(j)\n",
    "    else :\n",
    "        odd.append(j)\n",
    "        \n",
    "\n",
    "print(\"Even list is :\",even)\n",
    "print(\"Odd list is :\",odd)"
   ]
  },
  {
   "cell_type": "code",
   "execution_count": 2,
   "metadata": {},
   "outputs": [
    {
     "name": "stdin",
     "output_type": "stream",
     "text": [
      "Enter the lower range :  2\n",
      "Enter the upper range :  6\n"
     ]
    },
    {
     "name": "stdout",
     "output_type": "stream",
     "text": [
      "[(2, 4), (3, 9), (4, 16), (5, 25), (6, 36)]\n"
     ]
    }
   ],
   "source": [
    "#Python Program to Create a List of Tuples with the First Element as the Number\n",
    "#and Second Element as the Square of the Number\n",
    " \n",
    "start = int(input(\"Enter the lower range : \"))\n",
    "end = int(input(\"Enter the upper range : \"))\n",
    "\n",
    "list = [(x, x**2) for x in range(start,end + 1)]\n",
    "print(list)"
   ]
  },
  {
   "cell_type": "code",
   "execution_count": null,
   "metadata": {},
   "outputs": [],
   "source": []
  }
 ],
 "metadata": {
  "kernelspec": {
   "display_name": "Python 3",
   "language": "python",
   "name": "python3"
  },
  "language_info": {
   "codemirror_mode": {
    "name": "ipython",
    "version": 3
   },
   "file_extension": ".py",
   "mimetype": "text/x-python",
   "name": "python",
   "nbconvert_exporter": "python",
   "pygments_lexer": "ipython3",
   "version": "3.7.6"
  }
 },
 "nbformat": 4,
 "nbformat_minor": 4
}
